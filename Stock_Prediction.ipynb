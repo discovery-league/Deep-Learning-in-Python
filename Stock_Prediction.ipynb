{
  "nbformat": 4,
  "nbformat_minor": 0,
  "metadata": {
    "colab": {
      "name": "Stock Prediction.ipynb",
      "version": "0.3.2",
      "provenance": [],
      "collapsed_sections": [],
      "include_colab_link": true
    },
    "kernelspec": {
      "name": "python3",
      "display_name": "Python 3"
    }
  },
  "cells": [
    {
      "cell_type": "markdown",
      "metadata": {
        "id": "view-in-github",
        "colab_type": "text"
      },
      "source": [
        "<a href=\"https://colab.research.google.com/github/discovery-league/Deep-Learning-in-Python/blob/master/Stock_Prediction.ipynb\" target=\"_parent\"><img src=\"https://colab.research.google.com/assets/colab-badge.svg\" alt=\"Open In Colab\"/></a>"
      ]
    },
    {
      "metadata": {
        "id": "PvQ6sPk4Hwlt",
        "colab_type": "code",
        "colab": {
          "base_uri": "https://localhost:8080/",
          "height": 34
        },
        "outputId": "9513c154-0b1c-4dd6-dacb-4b1e6526cdb0"
      },
      "cell_type": "code",
      "source": [
        "import tensorflow as tf\n",
        "import numpy as np\n",
        "import pandas as pd\n",
        "import matplotlib.pyplot as plt\n",
        "import os\n",
        "\n",
        "from sklearn.preprocessing import MinMaxScaler\n",
        "\n",
        "print(tf.__version__)"
      ],
      "execution_count": 1,
      "outputs": [
        {
          "output_type": "stream",
          "text": [
            "2.0.0-alpha0\n"
          ],
          "name": "stdout"
        }
      ]
    },
    {
      "metadata": {
        "id": "WzL73TbnJXsj",
        "colab_type": "code",
        "colab": {}
      },
      "cell_type": "code",
      "source": [
        "df = pd.read_csv('SLB.csv',delimiter=',',usecols=['Date','Open','High','Low','Close','Volume'])"
      ],
      "execution_count": 0,
      "outputs": []
    },
    {
      "metadata": {
        "id": "MKhzPBZpNndc",
        "colab_type": "code",
        "colab": {
          "base_uri": "https://localhost:8080/",
          "height": 204
        },
        "outputId": "f697fd8f-ca4d-4dfd-8089-87b41f6c319e"
      },
      "cell_type": "code",
      "source": [
        "df = df.sort_values('Date')\n",
        "df.head()"
      ],
      "execution_count": 9,
      "outputs": [
        {
          "output_type": "execute_result",
          "data": {
            "text/html": [
              "<div>\n",
              "<style scoped>\n",
              "    .dataframe tbody tr th:only-of-type {\n",
              "        vertical-align: middle;\n",
              "    }\n",
              "\n",
              "    .dataframe tbody tr th {\n",
              "        vertical-align: top;\n",
              "    }\n",
              "\n",
              "    .dataframe thead th {\n",
              "        text-align: right;\n",
              "    }\n",
              "</style>\n",
              "<table border=\"1\" class=\"dataframe\">\n",
              "  <thead>\n",
              "    <tr style=\"text-align: right;\">\n",
              "      <th></th>\n",
              "      <th>Date</th>\n",
              "      <th>Open</th>\n",
              "      <th>High</th>\n",
              "      <th>Low</th>\n",
              "      <th>Close</th>\n",
              "      <th>Volume</th>\n",
              "    </tr>\n",
              "  </thead>\n",
              "  <tbody>\n",
              "    <tr>\n",
              "      <th>0</th>\n",
              "      <td>1981-12-31</td>\n",
              "      <td>13.93750</td>\n",
              "      <td>14.00000</td>\n",
              "      <td>13.875</td>\n",
              "      <td>13.96875</td>\n",
              "      <td>449200</td>\n",
              "    </tr>\n",
              "    <tr>\n",
              "      <th>1</th>\n",
              "      <td>1982-01-04</td>\n",
              "      <td>13.75000</td>\n",
              "      <td>13.96875</td>\n",
              "      <td>13.500</td>\n",
              "      <td>13.68750</td>\n",
              "      <td>630400</td>\n",
              "    </tr>\n",
              "    <tr>\n",
              "      <th>2</th>\n",
              "      <td>1982-01-05</td>\n",
              "      <td>13.25000</td>\n",
              "      <td>13.46875</td>\n",
              "      <td>13.000</td>\n",
              "      <td>13.00000</td>\n",
              "      <td>1076800</td>\n",
              "    </tr>\n",
              "    <tr>\n",
              "      <th>3</th>\n",
              "      <td>1982-01-06</td>\n",
              "      <td>12.87500</td>\n",
              "      <td>12.96875</td>\n",
              "      <td>12.750</td>\n",
              "      <td>12.87500</td>\n",
              "      <td>1560400</td>\n",
              "    </tr>\n",
              "    <tr>\n",
              "      <th>4</th>\n",
              "      <td>1982-01-07</td>\n",
              "      <td>12.71875</td>\n",
              "      <td>12.93750</td>\n",
              "      <td>12.500</td>\n",
              "      <td>12.62500</td>\n",
              "      <td>1303600</td>\n",
              "    </tr>\n",
              "  </tbody>\n",
              "</table>\n",
              "</div>"
            ],
            "text/plain": [
              "         Date      Open      High     Low     Close   Volume\n",
              "0  1981-12-31  13.93750  14.00000  13.875  13.96875   449200\n",
              "1  1982-01-04  13.75000  13.96875  13.500  13.68750   630400\n",
              "2  1982-01-05  13.25000  13.46875  13.000  13.00000  1076800\n",
              "3  1982-01-06  12.87500  12.96875  12.750  12.87500  1560400\n",
              "4  1982-01-07  12.71875  12.93750  12.500  12.62500  1303600"
            ]
          },
          "metadata": {
            "tags": []
          },
          "execution_count": 9
        }
      ]
    },
    {
      "metadata": {
        "id": "SiA6MbEhNtL7",
        "colab_type": "code",
        "colab": {
          "base_uri": "https://localhost:8080/",
          "height": 621
        },
        "outputId": "d3b350c2-b245-431c-947a-da7396f71884"
      },
      "cell_type": "code",
      "source": [
        "plt.figure(figsize = (12,9))\n",
        "plt.plot(range(df.shape[0]),(df['Low']+df['High'])/2.0)\n",
        "plt.xticks(range(0,df.shape[0],500),df['Date'].loc[::500],rotation=45)\n",
        "plt.xlabel('Date',fontsize=18)\n",
        "plt.ylabel('Mid Price',fontsize=18)\n",
        "plt.show()"
      ],
      "execution_count": 11,
      "outputs": [
        {
          "output_type": "display_data",
          "data": {
            "image/png": "[encoded data removed]",
            "text/plain": [
              "<Figure size 864x648 with 1 Axes>"
            ]
          },
          "metadata": {
            "tags": []
          }
        }
      ]
    },
    {
      "metadata": {
        "id": "6xt6ERv-OvNC",
        "colab_type": "code",
        "colab": {}
      },
      "cell_type": "code",
      "source": [
        "df['mid'] = (df['Low']+df['High'])/2.0"
      ],
      "execution_count": 0,
      "outputs": []
    },
    {
      "metadata": {
        "id": "RiG92X6IQlyP",
        "colab_type": "code",
        "colab": {}
      },
      "cell_type": "code",
      "source": [
        "SEQ_LEN = 60\n",
        "FUTURE_PERIOD_PREDICT = 1\n",
        "RATIO_TO_PREDICT = 'mid'"
      ],
      "execution_count": 0,
      "outputs": []
    },
    {
      "metadata": {
        "id": "-GZuvMP3RN-B",
        "colab_type": "code",
        "colab": {}
      },
      "cell_type": "code",
      "source": [
        "def classify(current, future):\n",
        "  if float(future) > float(current):\n",
        "    return 1\n",
        "  else:\n",
        "    return 0"
      ],
      "execution_count": 0,
      "outputs": []
    },
    {
      "metadata": {
        "id": "9xsqbUBoRbso",
        "colab_type": "code",
        "colab": {
          "base_uri": "https://localhost:8080/",
          "height": 204
        },
        "outputId": "33f142d7-c00e-4a9f-ee4d-9a8590202438"
      },
      "cell_type": "code",
      "source": [
        "df['future'] = df[RATIO_TO_PREDICT].shift(-FUTURE_PERIOD_PREDICT)\n",
        "df['target'] = list(map(classify, df[RATIO_TO_PREDICT],df['future']))\n",
        "df.head()"
      ],
      "execution_count": 16,
      "outputs": [
        {
          "output_type": "execute_result",
          "data": {
            "text/html": [
              "<div>\n",
              "<style scoped>\n",
              "    .dataframe tbody tr th:only-of-type {\n",
              "        vertical-align: middle;\n",
              "    }\n",
              "\n",
              "    .dataframe tbody tr th {\n",
              "        vertical-align: top;\n",
              "    }\n",
              "\n",
              "    .dataframe thead th {\n",
              "        text-align: right;\n",
              "    }\n",
              "</style>\n",
              "<table border=\"1\" class=\"dataframe\">\n",
              "  <thead>\n",
              "    <tr style=\"text-align: right;\">\n",
              "      <th></th>\n",
              "      <th>Date</th>\n",
              "      <th>Open</th>\n",
              "      <th>High</th>\n",
              "      <th>Low</th>\n",
              "      <th>Close</th>\n",
              "      <th>Volume</th>\n",
              "      <th>mid</th>\n",
              "      <th>future</th>\n",
              "      <th>target</th>\n",
              "    </tr>\n",
              "  </thead>\n",
              "  <tbody>\n",
              "    <tr>\n",
              "      <th>0</th>\n",
              "      <td>1981-12-31</td>\n",
              "      <td>13.93750</td>\n",
              "      <td>14.00000</td>\n",
              "      <td>13.875</td>\n",
              "      <td>13.96875</td>\n",
              "      <td>449200</td>\n",
              "      <td>13.937500</td>\n",
              "      <td>13.734375</td>\n",
              "      <td>0</td>\n",
              "    </tr>\n",
              "    <tr>\n",
              "      <th>1</th>\n",
              "      <td>1982-01-04</td>\n",
              "      <td>13.75000</td>\n",
              "      <td>13.96875</td>\n",
              "      <td>13.500</td>\n",
              "      <td>13.68750</td>\n",
              "      <td>630400</td>\n",
              "      <td>13.734375</td>\n",
              "      <td>13.234375</td>\n",
              "      <td>0</td>\n",
              "    </tr>\n",
              "    <tr>\n",
              "      <th>2</th>\n",
              "      <td>1982-01-05</td>\n",
              "      <td>13.25000</td>\n",
              "      <td>13.46875</td>\n",
              "      <td>13.000</td>\n",
              "      <td>13.00000</td>\n",
              "      <td>1076800</td>\n",
              "      <td>13.234375</td>\n",
              "      <td>12.859375</td>\n",
              "      <td>0</td>\n",
              "    </tr>\n",
              "    <tr>\n",
              "      <th>3</th>\n",
              "      <td>1982-01-06</td>\n",
              "      <td>12.87500</td>\n",
              "      <td>12.96875</td>\n",
              "      <td>12.750</td>\n",
              "      <td>12.87500</td>\n",
              "      <td>1560400</td>\n",
              "      <td>12.859375</td>\n",
              "      <td>12.718750</td>\n",
              "      <td>0</td>\n",
              "    </tr>\n",
              "    <tr>\n",
              "      <th>4</th>\n",
              "      <td>1982-01-07</td>\n",
              "      <td>12.71875</td>\n",
              "      <td>12.93750</td>\n",
              "      <td>12.500</td>\n",
              "      <td>12.62500</td>\n",
              "      <td>1303600</td>\n",
              "      <td>12.718750</td>\n",
              "      <td>12.796875</td>\n",
              "      <td>1</td>\n",
              "    </tr>\n",
              "  </tbody>\n",
              "</table>\n",
              "</div>"
            ],
            "text/plain": [
              "         Date      Open      High     Low     Close   Volume        mid  \\\n",
              "0  1981-12-31  13.93750  14.00000  13.875  13.96875   449200  13.937500   \n",
              "1  1982-01-04  13.75000  13.96875  13.500  13.68750   630400  13.734375   \n",
              "2  1982-01-05  13.25000  13.46875  13.000  13.00000  1076800  13.234375   \n",
              "3  1982-01-06  12.87500  12.96875  12.750  12.87500  1560400  12.859375   \n",
              "4  1982-01-07  12.71875  12.93750  12.500  12.62500  1303600  12.718750   \n",
              "\n",
              "      future  target  \n",
              "0  13.734375       0  \n",
              "1  13.234375       0  \n",
              "2  12.859375       0  \n",
              "3  12.718750       0  \n",
              "4  12.796875       1  "
            ]
          },
          "metadata": {
            "tags": []
          },
          "execution_count": 16
        }
      ]
    },
    {
      "metadata": {
        "id": "KBe8cTzvRyif",
        "colab_type": "code",
        "colab": {}
      },
      "cell_type": "code",
      "source": [
        ""
      ],
      "execution_count": 0,
      "outputs": []
    }
  ]
}